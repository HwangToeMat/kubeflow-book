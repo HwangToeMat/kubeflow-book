{
 "cells": [
  {
   "cell_type": "code",
   "execution_count": 3,
   "metadata": {},
   "outputs": [
    {
     "data": {
      "text/html": [
       "Experiment link <a href=\"/pipeline/#/experiments/details/3ed6a4e4-f248-40d0-810b-c469c67299dc\" target=\"_blank\" >here</a>"
      ],
      "text/plain": [
       "<IPython.core.display.HTML object>"
      ]
     },
     "metadata": {},
     "output_type": "display_data"
    },
    {
     "data": {
      "text/html": [
       "Run link <a href=\"/pipeline/#/runs/details/9e891c37-ef42-4c48-a85a-0bcd5e3538eb\" target=\"_blank\" >here</a>"
      ],
      "text/plain": [
       "<IPython.core.display.HTML object>"
      ]
     },
     "metadata": {},
     "output_type": "display_data"
    }
   ],
   "source": [
    "import kfp\n",
    "from kfp import dsl\n",
    "\n",
    "@dsl.pipeline(\n",
    "    name='AttachStorage',\n",
    "    description='Create a pvc, attach it to pipeline.'\n",
    ")\n",
    "def attatch_pvc_pipeline():\n",
    "    \n",
    "    vop = dsl.VolumeOp(\n",
    "        name=\"volume_creation\",\n",
    "        resource_name=\"vol-a\",\n",
    "        storage_class=\"nfs-client\",\n",
    "        modes=dsl.VOLUME_MODE_RWM,\n",
    "        size=\"1Gi\"\n",
    "    )\n",
    "    \n",
    "    cop1 = dsl.ContainerOp(\n",
    "        name='HelloKubeflow',\n",
    "        image='alpine',\n",
    "        command=['sh', '-c'],\n",
    "        arguments=['echo \"hello Kubeflow\" > /mnt/content.txt'],\n",
    "        pvolumes={\"/mnt\": vop.volume}\n",
    "    )\n",
    "    cop2 = dsl.ContainerOp(\n",
    "        name='cat-content',\n",
    "        image='alpine',\n",
    "        command=['cat'],\n",
    "        arguments=['/mnt/content.txt'],\n",
    "        pvolumes={\"/mnt\": vop.volume}\n",
    "    )\n",
    "\n",
    "    cop1.after(vop)\n",
    "    cop2.after(cop1)\n",
    "        \n",
    "     \n",
    "if __name__ == '__main__':\n",
    "    kfp.Client().create_run_from_pipeline_func(pipeline_func=attatch_pvc_pipeline, \n",
    "                                               arguments={})\n"
   ]
  },
  {
   "cell_type": "code",
   "execution_count": 8,
   "metadata": {},
   "outputs": [
    {
     "name": "stdout",
     "output_type": "stream",
     "text": [
      "persistentvolumeclaim/kubeflow-pvc-2 created\n"
     ]
    }
   ],
   "source": [
    "!kubectl apply -f kubeflow-pvc2.yaml"
   ]
  }
 ],
 "metadata": {
  "kernelspec": {
   "display_name": "Python 3",
   "language": "python",
   "name": "python3"
  },
  "language_info": {
   "codemirror_mode": {
    "name": "ipython",
    "version": 3
   },
   "file_extension": ".py",
   "mimetype": "text/x-python",
   "name": "python",
   "nbconvert_exporter": "python",
   "pygments_lexer": "ipython3",
   "version": "3.6.8"
  }
 },
 "nbformat": 4,
 "nbformat_minor": 4
}
